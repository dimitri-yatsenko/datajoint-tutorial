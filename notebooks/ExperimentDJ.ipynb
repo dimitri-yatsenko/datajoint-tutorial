{
 "cells": [
  {
   "cell_type": "markdown",
   "metadata": {},
   "source": [
    "# Experiment with DataJoint\n",
    "## Preliminaries"
   ]
  },
  {
   "cell_type": "code",
   "execution_count": 1,
   "metadata": {
    "collapsed": false
   },
   "outputs": [
    {
     "name": "stdout",
     "output_type": "stream",
     "text": [
      "Populating the interactive namespace from numpy and matplotlib\n"
     ]
    }
   ],
   "source": [
    "%pylab inline"
   ]
  },
  {
   "cell_type": "code",
   "execution_count": 2,
   "metadata": {
    "collapsed": true
   },
   "outputs": [],
   "source": [
    "import numpy as np\n",
    "import time\n",
    "from scipy import ndimage\n",
    "\n",
    "\n",
    "def make_image(seed=None, ncells=100, size=256):\n",
    "    \"\"\"\n",
    "    make blob image\n",
    "    \"\"\"\n",
    "    np.random.seed(seed)\n",
    "    im = np.zeros((size, size))\n",
    "    points = (size*np.random.random((2, ncells))).astype(np.int)\n",
    "    im[points[0], points[1]]= 1 + 0.1*np.random.normal(size=ncells)\n",
    "    return ndimage.gaussian_filter(im, sigma=size/(6.*np.sqrt(ncells)))\n",
    "\n",
    "\n",
    "class BlobFail(Exception):\n",
    "    pass\n",
    "\n",
    "\n",
    "def find_blobs(im, fail_rate=0.01):\n",
    "    \"\"\"\n",
    "    a generator of x, y coordinates of blobs\n",
    "    \"\"\"\n",
    "    for y, x in zip(*np.where(\n",
    "            im > ndimage.filters.percentile_filter(im, 85, size=3))):\n",
    "        if np.random.random() < fail_rate:\n",
    "            print(\"Fail!\", flush=True)\n",
    "            raise BlobFail\n",
    "        yield x, y"
   ]
  },
  {
   "cell_type": "code",
   "execution_count": 3,
   "metadata": {
    "collapsed": false
   },
   "outputs": [
    {
     "name": "stdout",
     "output_type": "stream",
     "text": [
      "DataJoint 0.4.1 (Oct 28, 2016)\n",
      "Loading local settings from /Users/dimitri/.datajoint_config.json\n",
      "Connecting dimitri@datajoint.ninai.org:3306\n"
     ]
    }
   ],
   "source": [
    "import datajoint as dj\n",
    "schema = dj.schema('dimitri_blobs', locals())"
   ]
  },
  {
   "cell_type": "code",
   "execution_count": 4,
   "metadata": {
    "collapsed": true
   },
   "outputs": [],
   "source": [
    "@schema \n",
    "class Scientist(dj.Lookup):\n",
    "    definition = \"\"\"    # scientists in the lab\n",
    "    name : varchar(8)   # scientist name\n",
    "    \"\"\"    \n",
    "    contents = [['Alice'], ['Bob'], ['Carol'], ['Dave']]"
   ]
  },
  {
   "cell_type": "code",
   "execution_count": 5,
   "metadata": {
    "collapsed": true
   },
   "outputs": [],
   "source": [
    "@schema\n",
    "class Experiment(dj.Manual):\n",
    "    definition = \"\"\" # daily experiment\n",
    "    exp_date : date   # experiment date\n",
    "    --- \n",
    "    -> Scientist\n",
    "    notes=\"\" : varchar(255)  # free notes about the experiment\n",
    "    \"\"\""
   ]
  },
  {
   "cell_type": "code",
   "execution_count": 6,
   "metadata": {
    "collapsed": false
   },
   "outputs": [],
   "source": [
    "e = Experiment()\n",
    "\n",
    "# enter one at a time\n",
    "e.insert1(dict(exp_date=\"2016-10-01\", name=\"Carol\", notes=\"awesome data!\"))\n",
    "\n",
    "# enter with default attribute value\n",
    "e.insert1(dict(exp_date=\"2016-10-02\", name=\"Bob\"))\n",
    "\n",
    "# enter by position (without attribute names)\n",
    "e.insert1(('2016-10-03', 'Alice', 'found a piece of dark matter.'))\n",
    "\n",
    "# enter several tuples together\n",
    "e.insert((\n",
    "        (\"2016-10-04\", \"Carol\", \"stunning!\"),\n",
    "        (\"2016-10-05\", \"Bob\", \"inexplicable patterns.\"),\n",
    "        (\"2016-10-06\", \"Alice\", \"A boson got loose.\")\n",
    "    ))"
   ]
  },
  {
   "cell_type": "code",
   "execution_count": 7,
   "metadata": {
    "collapsed": false
   },
   "outputs": [
    {
     "data": {
      "text/html": [
       " <h3>daily experiment</h3>\n",
       "            <div style=\"max-height:1000px;max-width:1500px;overflow:auto;\">\n",
       "            <table border=\"1\" class=\"dataframe\">\n",
       "                <thead> <tr style=\"text-align: right;\"> <th> <em>exp_date</em></th><th>name</th><th>notes </th> </tr> </thead>\n",
       "                <tbody> <tr> <td>2016-10-01</td>\n",
       "<td>Carol</td>\n",
       "<td>awesome data!</td></tr><tr><td>2016-10-02</td>\n",
       "<td>Bob</td>\n",
       "<td></td></tr><tr><td>2016-10-03</td>\n",
       "<td>Alice</td>\n",
       "<td>found a piece of dark matter.</td></tr><tr><td>2016-10-04</td>\n",
       "<td>Carol</td>\n",
       "<td>stunning!</td></tr><tr><td>2016-10-05</td>\n",
       "<td>Bob</td>\n",
       "<td>inexplicable patterns.</td></tr><tr><td>2016-10-06</td>\n",
       "<td>Alice</td>\n",
       "<td>A boson got loose.</td> </tr> </tbody>\n",
       "            </table>\n",
       "            \n",
       "            <p>6 tuples</p></div>\n",
       "            "
      ],
      "text/plain": [
       "*exp_date      name      notes         \n",
       "+------------+ +-------+ +------------+\n",
       "2016-10-01     Carol     awesome data! \n",
       "2016-10-02     Bob                     \n",
       "2016-10-03     Alice     found a piece \n",
       "2016-10-04     Carol     stunning!     \n",
       "2016-10-05     Bob       inexplicable p\n",
       "2016-10-06     Alice     A boson got lo\n",
       " (6 tuples)"
      ]
     },
     "execution_count": 7,
     "metadata": {},
     "output_type": "execute_result"
    }
   ],
   "source": [
    "Experiment()"
   ]
  },
  {
   "cell_type": "code",
   "execution_count": 8,
   "metadata": {
    "collapsed": true
   },
   "outputs": [],
   "source": [
    "import numpy as np\n",
    "\n",
    "@schema\n",
    "class Acquire(dj.Imported):\n",
    "    definition = \"\"\"   # Image data from one experiment\n",
    "    -> Experiment \n",
    "    ---\n",
    "    timestamp = CURRENT_TIMESTAMP  : timestamp  \n",
    "    \"\"\"\n",
    "    \n",
    "    class Image(dj.Part):\n",
    "        definition = \"\"\"\n",
    "        -> Acquire\n",
    "        image_id : tinyint unsigned   # image number within each experiment\n",
    "        ---\n",
    "        image : longblob  # acquired image\n",
    "        \"\"\"\n",
    "        \n",
    "    def _make_tuples(self, key):\n",
    "        print('Populating:', key)\n",
    "        self.insert1(key)\n",
    "        number_of_images = np.random.randint(20)\n",
    "        part = self.Image()\n",
    "        for i in range(number_of_images):\n",
    "            print(end='.')\n",
    "            part.insert1(\n",
    "                dict(key, image_id=i, image=make_image()))\n",
    "        print('done')"
   ]
  },
  {
   "cell_type": "code",
   "execution_count": 9,
   "metadata": {
    "collapsed": false
   },
   "outputs": [
    {
     "name": "stdout",
     "output_type": "stream",
     "text": [
      "Populating: {'exp_date': datetime.date(2016, 10, 3)}\n",
      ".............done\n",
      "Populating: {'exp_date': datetime.date(2016, 10, 6)}\n",
      "..............done\n",
      "Populating: {'exp_date': datetime.date(2016, 10, 2)}\n",
      ".done\n",
      "Populating: {'exp_date': datetime.date(2016, 10, 5)}\n",
      "..............done\n",
      "Populating: {'exp_date': datetime.date(2016, 10, 1)}\n",
      ".......done\n",
      "Populating: {'exp_date': datetime.date(2016, 10, 4)}\n",
      "...................done\n"
     ]
    }
   ],
   "source": [
    "Acquire().populate()"
   ]
  },
  {
   "cell_type": "code",
   "execution_count": 10,
   "metadata": {
    "collapsed": false
   },
   "outputs": [],
   "source": [
    "@schema\n",
    "class Localize(dj.Computed):\n",
    "    definition = \"\"\"   # Image data from one experiment\n",
    "    -> Acquire.Image\n",
    "    \"\"\"\n",
    "    \n",
    "    class Blob(dj.Part):\n",
    "        definition = \"\"\"\n",
    "        -> Localize\n",
    "        blob_id : tinyint unsigned   # blob within each image\n",
    "        ---\n",
    "        x : float  # x-coordinate\n",
    "        y : float  # y-coordinate\n",
    "        amplitude : float  # amptlitude\n",
    "        \"\"\"\n",
    "        \n",
    "    def _make_tuples(self, key):\n",
    "        print('Populating:', key)\n",
    "        self.insert1(key)\n",
    "        img = (Acquire.Image() & key).fetch1['image']\n",
    "        part = self.Blob()\n",
    "        for i, (x, y) in enumerate(find_blobs(img)):\n",
    "            print(flush=True, end='.')\n",
    "            part.insert1(dict(key, blob_id=i, x=x, y=y, amplitude=img[y,x]))\n",
    "        print('done')"
   ]
  },
  {
   "cell_type": "code",
   "execution_count": 11,
   "metadata": {
    "collapsed": false
   },
   "outputs": [
    {
     "name": "stdout",
     "output_type": "stream",
     "text": [
      "Populating: {'exp_date': datetime.date(2016, 10, 1), 'image_id': 0}\n",
      "................................................Fail!\n",
      "Populating: {'exp_date': datetime.date(2016, 10, 1), 'image_id': 1}\n",
      "....................Fail!\n",
      "Populating: {'exp_date': datetime.date(2016, 10, 1), 'image_id': 2}\n",
      "............................Fail!\n",
      "Populating: {'exp_date': datetime.date(2016, 10, 1), 'image_id': 3}\n",
      "........................................................................done\n",
      "Populating: {'exp_date': datetime.date(2016, 10, 1), 'image_id': 4}\n",
      ".................................................Fail!\n",
      "Populating: {'exp_date': datetime.date(2016, 10, 1), 'image_id': 5}\n",
      ".........................................................................done\n",
      "Populating: {'exp_date': datetime.date(2016, 10, 1), 'image_id': 6}\n",
      "........................................................................done\n",
      "Populating: {'exp_date': datetime.date(2016, 10, 2), 'image_id': 0}\n",
      "......................................................................done\n",
      "Populating: {'exp_date': datetime.date(2016, 10, 3), 'image_id': 0}\n",
      "...................................Fail!\n",
      "Populating: {'exp_date': datetime.date(2016, 10, 3), 'image_id': 1}\n",
      "..Fail!\n",
      "Populating: {'exp_date': datetime.date(2016, 10, 3), 'image_id': 2}\n",
      "...................................................................................done\n",
      "Populating: {'exp_date': datetime.date(2016, 10, 3), 'image_id': 3}\n",
      ".............Fail!\n",
      "Populating: {'exp_date': datetime.date(2016, 10, 3), 'image_id': 4}\n",
      ".....................................................................done\n",
      "Populating: {'exp_date': datetime.date(2016, 10, 3), 'image_id': 5}\n",
      ".........................................................................done\n",
      "Populating: {'exp_date': datetime.date(2016, 10, 3), 'image_id': 6}\n",
      "....................................................................................done\n",
      "Populating: {'exp_date': datetime.date(2016, 10, 3), 'image_id': 7}\n",
      "..............Fail!\n",
      "Populating: {'exp_date': datetime.date(2016, 10, 3), 'image_id': 8}\n",
      ".............................................................................done\n",
      "Populating: {'exp_date': datetime.date(2016, 10, 3), 'image_id': 9}\n",
      "......................................................................done\n",
      "Populating: {'exp_date': datetime.date(2016, 10, 3), 'image_id': 10}\n",
      "...................................................................................done\n",
      "Populating: {'exp_date': datetime.date(2016, 10, 3), 'image_id': 11}\n",
      "..........................................................................done\n",
      "Populating: {'exp_date': datetime.date(2016, 10, 3), 'image_id': 12}\n",
      "........................................................Fail!\n",
      "Populating: {'exp_date': datetime.date(2016, 10, 4), 'image_id': 0}\n",
      "..........................................................................done\n",
      "Populating: {'exp_date': datetime.date(2016, 10, 4), 'image_id': 1}\n",
      "............................................................................done\n",
      "Populating: {'exp_date': datetime.date(2016, 10, 4), 'image_id': 2}\n",
      "....................Fail!\n",
      "Populating: {'exp_date': datetime.date(2016, 10, 4), 'image_id': 3}\n",
      "...........................................................................done\n",
      "Populating: {'exp_date': datetime.date(2016, 10, 4), 'image_id': 4}\n",
      "...............................Fail!\n",
      "Populating: {'exp_date': datetime.date(2016, 10, 4), 'image_id': 5}\n",
      "........................................................................done\n",
      "Populating: {'exp_date': datetime.date(2016, 10, 4), 'image_id': 6}\n",
      "...............................................Fail!\n",
      "Populating: {'exp_date': datetime.date(2016, 10, 4), 'image_id': 7}\n",
      "...Fail!\n",
      "Populating: {'exp_date': datetime.date(2016, 10, 4), 'image_id': 8}\n",
      "......................................................Fail!\n",
      "Populating: {'exp_date': datetime.date(2016, 10, 4), 'image_id': 9}\n",
      "......Fail!\n",
      "Populating: {'exp_date': datetime.date(2016, 10, 4), 'image_id': 10}\n",
      ".............................................................................done\n",
      "Populating: {'exp_date': datetime.date(2016, 10, 4), 'image_id': 11}\n",
      "....................................................................................done\n",
      "Populating: {'exp_date': datetime.date(2016, 10, 4), 'image_id': 12}\n",
      ".....Fail!\n",
      "Populating: {'exp_date': datetime.date(2016, 10, 4), 'image_id': 13}\n",
      "................................................................................done\n",
      "Populating: {'exp_date': datetime.date(2016, 10, 4), 'image_id': 14}\n",
      ".........................................................................Fail!\n",
      "Populating: {'exp_date': datetime.date(2016, 10, 4), 'image_id': 15}\n",
      "......Fail!\n",
      "Populating: {'exp_date': datetime.date(2016, 10, 4), 'image_id': 16}\n",
      ".....................................................................Fail!\n",
      "Populating: {'exp_date': datetime.date(2016, 10, 4), 'image_id': 17}\n",
      "...................................................................................done\n",
      "Populating: {'exp_date': datetime.date(2016, 10, 4), 'image_id': 18}\n",
      "...Fail!\n",
      "Populating: {'exp_date': datetime.date(2016, 10, 5), 'image_id': 0}\n",
      "..............Fail!\n",
      "Populating: {'exp_date': datetime.date(2016, 10, 5), 'image_id': 1}\n",
      "............................................................................done\n",
      "Populating: {'exp_date': datetime.date(2016, 10, 5), 'image_id': 2}\n",
      ".............Fail!\n",
      "Populating: {'exp_date': datetime.date(2016, 10, 5), 'image_id': 3}\n",
      ".............................................................................done\n",
      "Populating: {'exp_date': datetime.date(2016, 10, 5), 'image_id': 4}\n",
      "....Fail!\n",
      "Populating: {'exp_date': datetime.date(2016, 10, 5), 'image_id': 5}\n",
      "...Fail!\n",
      "Populating: {'exp_date': datetime.date(2016, 10, 5), 'image_id': 6}\n",
      "..........................................................................done\n",
      "Populating: {'exp_date': datetime.date(2016, 10, 5), 'image_id': 7}\n",
      ".............................................................................done\n",
      "Populating: {'exp_date': datetime.date(2016, 10, 5), 'image_id': 8}\n",
      ".........................................................................done\n",
      "Populating: {'exp_date': datetime.date(2016, 10, 5), 'image_id': 9}\n",
      ".....................................................................Fail!\n",
      "Populating: {'exp_date': datetime.date(2016, 10, 5), 'image_id': 10}\n",
      "................Fail!\n",
      "Populating: {'exp_date': datetime.date(2016, 10, 5), 'image_id': 11}\n",
      "..........................................................................done\n",
      "Populating: {'exp_date': datetime.date(2016, 10, 5), 'image_id': 12}\n",
      "..............................................................................done\n",
      "Populating: {'exp_date': datetime.date(2016, 10, 5), 'image_id': 13}\n",
      "............Fail!\n",
      "Populating: {'exp_date': datetime.date(2016, 10, 6), 'image_id': 0}\n",
      "............Fail!\n",
      "Populating: {'exp_date': datetime.date(2016, 10, 6), 'image_id': 1}\n",
      ".............................Fail!\n",
      "Populating: {'exp_date': datetime.date(2016, 10, 6), 'image_id': 2}\n",
      ".......................Fail!\n",
      "Populating: {'exp_date': datetime.date(2016, 10, 6), 'image_id': 3}\n",
      "..........................Fail!\n",
      "Populating: {'exp_date': datetime.date(2016, 10, 6), 'image_id': 4}\n",
      ".......Fail!\n",
      "Populating: {'exp_date': datetime.date(2016, 10, 6), 'image_id': 5}\n",
      ".........................Fail!\n",
      "Populating: {'exp_date': datetime.date(2016, 10, 6), 'image_id': 6}\n",
      "......................................................................done\n",
      "Populating: {'exp_date': datetime.date(2016, 10, 6), 'image_id': 7}\n",
      "........................Fail!\n",
      "Populating: {'exp_date': datetime.date(2016, 10, 6), 'image_id': 8}\n",
      "..................................................................................done\n",
      "Populating: {'exp_date': datetime.date(2016, 10, 6), 'image_id': 9}\n",
      ".................................................................................done\n",
      "Populating: {'exp_date': datetime.date(2016, 10, 6), 'image_id': 10}\n",
      ".......................................................................done\n",
      "Populating: {'exp_date': datetime.date(2016, 10, 6), 'image_id': 11}\n",
      ".....................................................................Fail!\n",
      "Populating: {'exp_date': datetime.date(2016, 10, 6), 'image_id': 12}\n",
      "..............................................................Fail!\n",
      "Populating: {'exp_date': datetime.date(2016, 10, 6), 'image_id': 13}\n",
      ".......................................................................done\n"
     ]
    }
   ],
   "source": [
    "Localize().populate(suppress_errors=True);"
   ]
  },
  {
   "cell_type": "code",
   "execution_count": 12,
   "metadata": {
    "collapsed": false
   },
   "outputs": [
    {
     "name": "stdout",
     "output_type": "stream",
     "text": [
      "Localize             Completed 32 of 68 (47.1%)   2016-11-21 15:55:32\n"
     ]
    }
   ],
   "source": [
    "Localize().progress();"
   ]
  },
  {
   "cell_type": "code",
   "execution_count": 13,
   "metadata": {
    "collapsed": true
   },
   "outputs": [],
   "source": [
    "@schema\n",
    "class Localize(dj.Computed):\n",
    "    definition = \"\"\"   # Image data from one experiment\n",
    "    -> Acquire.Image\n",
    "    \"\"\"\n",
    "    \n",
    "    class Blob(dj.Part):\n",
    "        definition = \"\"\"\n",
    "        -> Localize\n",
    "        blob_id : tinyint unsigned   # blob within each image\n",
    "        ---\n",
    "        x : float  # x-coordinate\n",
    "        y : float  # y-coordinate\n",
    "        amplitude : float  # amptlitude\n",
    "        \"\"\"\n",
    "        \n",
    "    def _make_tuples(self, key):\n",
    "        print('Populating:', key)\n",
    "        self.insert1(key)\n",
    "        img = (Acquire.Image() & key).fetch1['image']\n",
    "        self.Blob().insert((\n",
    "                dict(key, blob_id=i, x=x, y=y, amplitude=img[y,x])\n",
    "                for i,(x,y) in enumerate(find_blobs(img))\n",
    "            ))\n",
    "        print('done')"
   ]
  },
  {
   "cell_type": "code",
   "execution_count": 14,
   "metadata": {
    "collapsed": false
   },
   "outputs": [
    {
     "name": "stdout",
     "output_type": "stream",
     "text": [
      "Populating: {'exp_date': datetime.date(2016, 10, 1), 'image_id': 0}\n",
      "Fail!\n",
      "Populating: {'exp_date': datetime.date(2016, 10, 1), 'image_id': 1}\n",
      "Fail!\n",
      "Populating: {'exp_date': datetime.date(2016, 10, 1), 'image_id': 2}\n",
      "done\n",
      "Populating: {'exp_date': datetime.date(2016, 10, 1), 'image_id': 4}\n",
      "done\n",
      "Populating: {'exp_date': datetime.date(2016, 10, 3), 'image_id': 0}\n",
      "done\n",
      "Populating: {'exp_date': datetime.date(2016, 10, 3), 'image_id': 1}\n",
      "done\n",
      "Populating: {'exp_date': datetime.date(2016, 10, 3), 'image_id': 3}\n",
      "done\n",
      "Populating: {'exp_date': datetime.date(2016, 10, 3), 'image_id': 7}\n",
      "done\n",
      "Populating: {'exp_date': datetime.date(2016, 10, 3), 'image_id': 12}\n",
      "Fail!\n",
      "Populating: {'exp_date': datetime.date(2016, 10, 4), 'image_id': 2}\n",
      "Fail!\n",
      "Populating: {'exp_date': datetime.date(2016, 10, 4), 'image_id': 4}\n",
      "done\n",
      "Populating: {'exp_date': datetime.date(2016, 10, 4), 'image_id': 6}\n",
      "Fail!\n",
      "Populating: {'exp_date': datetime.date(2016, 10, 4), 'image_id': 7}\n",
      "Fail!\n",
      "Populating: {'exp_date': datetime.date(2016, 10, 4), 'image_id': 8}\n",
      "Fail!\n",
      "Populating: {'exp_date': datetime.date(2016, 10, 4), 'image_id': 9}\n",
      "done\n",
      "Populating: {'exp_date': datetime.date(2016, 10, 4), 'image_id': 12}\n",
      "Fail!\n",
      "Populating: {'exp_date': datetime.date(2016, 10, 4), 'image_id': 14}\n",
      "done\n",
      "Populating: {'exp_date': datetime.date(2016, 10, 4), 'image_id': 15}\n",
      "done\n",
      "Populating: {'exp_date': datetime.date(2016, 10, 4), 'image_id': 16}\n",
      "Fail!\n",
      "Populating: {'exp_date': datetime.date(2016, 10, 4), 'image_id': 18}\n",
      "Fail!\n",
      "Populating: {'exp_date': datetime.date(2016, 10, 5), 'image_id': 0}\n",
      "Fail!\n",
      "Populating: {'exp_date': datetime.date(2016, 10, 5), 'image_id': 2}\n",
      "done\n",
      "Populating: {'exp_date': datetime.date(2016, 10, 5), 'image_id': 4}\n",
      "done\n",
      "Populating: {'exp_date': datetime.date(2016, 10, 5), 'image_id': 5}\n",
      "Fail!\n",
      "Populating: {'exp_date': datetime.date(2016, 10, 5), 'image_id': 9}\n",
      "Fail!\n",
      "Populating: {'exp_date': datetime.date(2016, 10, 5), 'image_id': 10}\n",
      "done\n",
      "Populating: {'exp_date': datetime.date(2016, 10, 5), 'image_id': 13}\n",
      "Fail!\n",
      "Populating: {'exp_date': datetime.date(2016, 10, 6), 'image_id': 0}\n",
      "Fail!\n",
      "Populating: {'exp_date': datetime.date(2016, 10, 6), 'image_id': 1}\n",
      "Fail!\n",
      "Populating: {'exp_date': datetime.date(2016, 10, 6), 'image_id': 2}\n",
      "Fail!\n",
      "Populating: {'exp_date': datetime.date(2016, 10, 6), 'image_id': 3}\n",
      "Fail!\n",
      "Populating: {'exp_date': datetime.date(2016, 10, 6), 'image_id': 4}\n",
      "done\n",
      "Populating: {'exp_date': datetime.date(2016, 10, 6), 'image_id': 5}\n",
      "done\n",
      "Populating: {'exp_date': datetime.date(2016, 10, 6), 'image_id': 7}\n",
      "done\n",
      "Populating: {'exp_date': datetime.date(2016, 10, 6), 'image_id': 11}\n",
      "Fail!\n",
      "Populating: {'exp_date': datetime.date(2016, 10, 6), 'image_id': 12}\n",
      "Fail!\n"
     ]
    }
   ],
   "source": [
    "Localize().populate(suppress_errors=True);"
   ]
  },
  {
   "cell_type": "code",
   "execution_count": 15,
   "metadata": {
    "collapsed": false
   },
   "outputs": [
    {
     "name": "stdout",
     "output_type": "stream",
     "text": [
      "Localize             Completed 48 of 68 (70.6%)   2016-11-21 15:55:46\n"
     ]
    }
   ],
   "source": [
    "Localize().progress();"
   ]
  },
  {
   "cell_type": "code",
   "execution_count": 16,
   "metadata": {
    "collapsed": false
   },
   "outputs": [
    {
     "data": {
      "image/png": "[encoded data removed]",
      "text/plain": [
       "<matplotlib.figure.Figure at 0x106dc8470>"
      ]
     },
     "metadata": {},
     "output_type": "display_data"
    }
   ],
   "source": [
    "dj.ERD(schema).draw()"
   ]
  },
  {
   "cell_type": "code",
   "execution_count": 17,
   "metadata": {
    "collapsed": false
   },
   "outputs": [
    {
     "data": {
      "text/html": [
       " <h3>scientists in the lab</h3>\n",
       "            <div style=\"max-height:1000px;max-width:1500px;overflow:auto;\">\n",
       "            <table border=\"1\" class=\"dataframe\">\n",
       "                <thead> <tr style=\"text-align: right;\"> <th> <em>name</em> </th> </tr> </thead>\n",
       "                <tbody> <tr> <td>Alice</td></tr><tr><td>Bob</td></tr><tr><td>Carol</td> </tr> </tbody>\n",
       "            </table>\n",
       "            \n",
       "            <p>3 tuples</p></div>\n",
       "            "
      ],
      "text/plain": [
       "*name    \n",
       "+-------+\n",
       "Alice    \n",
       "Bob      \n",
       "Carol    \n",
       " (3 tuples)"
      ]
     },
     "execution_count": 17,
     "metadata": {},
     "output_type": "execute_result"
    }
   ],
   "source": [
    "Scientist() & Experiment()"
   ]
  },
  {
   "cell_type": "code",
   "execution_count": 18,
   "metadata": {
    "collapsed": false
   },
   "outputs": [
    {
     "data": {
      "text/html": [
       " \n",
       "            <div style=\"max-height:1000px;max-width:1500px;overflow:auto;\">\n",
       "            <table border=\"1\" class=\"dataframe\">\n",
       "                <thead> <tr style=\"text-align: right;\"> <th> <em>name</em></th><th>n </th> </tr> </thead>\n",
       "                <tbody> <tr> <td>Alice</td>\n",
       "<td>2</td></tr><tr><td>Bob</td>\n",
       "<td>2</td></tr><tr><td>Carol</td>\n",
       "<td>2</td> </tr> </tbody>\n",
       "            </table>\n",
       "            \n",
       "            <p>3 tuples</p></div>\n",
       "            "
      ],
      "text/plain": [
       "*name     n    \n",
       "+-------+ +---+\n",
       "Alice     2    \n",
       "Bob       2    \n",
       "Carol     2    \n",
       " (3 tuples)"
      ]
     },
     "execution_count": 18,
     "metadata": {},
     "output_type": "execute_result"
    }
   ],
   "source": [
    "Scientist().aggr(Experiment(), n='count(exp_date)')"
   ]
  },
  {
   "cell_type": "code",
   "execution_count": 19,
   "metadata": {
    "collapsed": false
   },
   "outputs": [
    {
     "data": {
      "text/html": [
       " <h3></h3>\n",
       "            <div style=\"max-height:1000px;max-width:1500px;overflow:auto;\">\n",
       "            <table border=\"1\" class=\"dataframe\">\n",
       "                <thead> <tr style=\"text-align: right;\"> <th> <em>exp_date</em></th><th><em>image_id</em></th><th>image </th> </tr> </thead>\n",
       "                <tbody> <tr> <td>2016-10-03</td>\n",
       "<td>8</td>\n",
       "<td>=BLOB=</td></tr><tr><td>2016-10-03</td>\n",
       "<td>9</td>\n",
       "<td>=BLOB=</td></tr><tr><td>2016-10-03</td>\n",
       "<td>10</td>\n",
       "<td>=BLOB=</td></tr><tr><td>2016-10-03</td>\n",
       "<td>11</td>\n",
       "<td>=BLOB=</td></tr><tr><td>2016-10-03</td>\n",
       "<td>12</td>\n",
       "<td>=BLOB=</td></tr><tr><td>2016-10-03</td>\n",
       "<td>0</td>\n",
       "<td>=BLOB=</td></tr><tr><td>2016-10-03</td>\n",
       "<td>1</td>\n",
       "<td>=BLOB=</td> </tr> </tbody>\n",
       "            </table>\n",
       "            <p>...</p>\n",
       "            <p>27 tuples</p></div>\n",
       "            "
      ],
      "text/plain": [
       "*exp_date      *image_id    image     \n",
       "+------------+ +----------+ +--------+\n",
       "2016-10-03     8            <BLOB>    \n",
       "2016-10-03     9            <BLOB>    \n",
       "2016-10-03     10           <BLOB>    \n",
       "2016-10-03     11           <BLOB>    \n",
       "2016-10-03     12           <BLOB>    \n",
       "2016-10-03     0            <BLOB>    \n",
       "2016-10-03     1            <BLOB>    \n",
       "...\n",
       " (27 tuples)"
      ]
     },
     "execution_count": 19,
     "metadata": {},
     "output_type": "execute_result"
    }
   ],
   "source": [
    "Acquire.Image() & (Experiment() & {'name': 'Alice'})"
   ]
  },
  {
   "cell_type": "code",
   "execution_count": 20,
   "metadata": {
    "collapsed": false
   },
   "outputs": [
    {
     "data": {
      "text/html": [
       " \n",
       "            <div style=\"max-height:1000px;max-width:1500px;overflow:auto;\">\n",
       "            <table border=\"1\" class=\"dataframe\">\n",
       "                <thead> <tr style=\"text-align: right;\"> <th> <em>name</em></th><th>n </th> </tr> </thead>\n",
       "                <tbody> <tr> <td>Alice</td>\n",
       "<td>27</td></tr><tr><td>Bob</td>\n",
       "<td>15</td></tr><tr><td>Carol</td>\n",
       "<td>26</td> </tr> </tbody>\n",
       "            </table>\n",
       "            \n",
       "            <p>3 tuples</p></div>\n",
       "            "
      ],
      "text/plain": [
       "*name     n     \n",
       "+-------+ +----+\n",
       "Alice     27    \n",
       "Bob       15    \n",
       "Carol     26    \n",
       " (3 tuples)"
      ]
     },
     "execution_count": 20,
     "metadata": {},
     "output_type": "execute_result"
    }
   ],
   "source": [
    "acquired = Scientist().aggr(Experiment()*Acquire.Image(), n='count(image_id)') \n",
    "acquired"
   ]
  },
  {
   "cell_type": "code",
   "execution_count": 21,
   "metadata": {
    "collapsed": false
   },
   "outputs": [
    {
     "data": {
      "text/html": [
       " \n",
       "            <div style=\"max-height:1000px;max-width:1500px;overflow:auto;\">\n",
       "            <table border=\"1\" class=\"dataframe\">\n",
       "                <thead> <tr style=\"text-align: right;\"> <th> <em>name</em></th><th>m </th> </tr> </thead>\n",
       "                <tbody> <tr> <td>Alice</td>\n",
       "<td>20</td></tr><tr><td>Bob</td>\n",
       "<td>11</td></tr><tr><td>Carol</td>\n",
       "<td>17</td> </tr> </tbody>\n",
       "            </table>\n",
       "            \n",
       "            <p>3 tuples</p></div>\n",
       "            "
      ],
      "text/plain": [
       "*name     m     \n",
       "+-------+ +----+\n",
       "Alice     20    \n",
       "Bob       11    \n",
       "Carol     17    \n",
       " (3 tuples)"
      ]
     },
     "execution_count": 21,
     "metadata": {},
     "output_type": "execute_result"
    }
   ],
   "source": [
    "analyzed = Scientist().aggr(Experiment()*Localize(), m='count(image_id)')\n",
    "analyzed"
   ]
  },
  {
   "cell_type": "code",
   "execution_count": 22,
   "metadata": {
    "collapsed": false
   },
   "outputs": [
    {
     "data": {
      "text/html": [
       " \n",
       "            <div style=\"max-height:1000px;max-width:1500px;overflow:auto;\">\n",
       "            <table border=\"1\" class=\"dataframe\">\n",
       "                <thead> <tr style=\"text-align: right;\"> <th> <em>name</em></th><th>n</th><th>m </th> </tr> </thead>\n",
       "                <tbody> <tr> <td>Alice</td>\n",
       "<td>27</td>\n",
       "<td>20</td></tr><tr><td>Bob</td>\n",
       "<td>15</td>\n",
       "<td>11</td></tr><tr><td>Carol</td>\n",
       "<td>26</td>\n",
       "<td>17</td> </tr> </tbody>\n",
       "            </table>\n",
       "            \n",
       "            <p>3 tuples</p></div>\n",
       "            "
      ],
      "text/plain": [
       "*name     n      m     \n",
       "+-------+ +----+ +----+\n",
       "Alice     27     20    \n",
       "Bob       15     11    \n",
       "Carol     26     17    \n",
       " (3 tuples)"
      ]
     },
     "execution_count": 22,
     "metadata": {},
     "output_type": "execute_result"
    }
   ],
   "source": [
    "acquired*analyzed"
   ]
  },
  {
   "cell_type": "code",
   "execution_count": 23,
   "metadata": {
    "collapsed": false
   },
   "outputs": [
    {
     "data": {
      "text/html": [
       " \n",
       "            <div style=\"max-height:1000px;max-width:1500px;overflow:auto;\">\n",
       "            <table border=\"1\" class=\"dataframe\">\n",
       "                <thead> <tr style=\"text-align: right;\"> <th> <em>name</em></th><th>pcent </th> </tr> </thead>\n",
       "                <tbody> <tr> <td>Alice</td>\n",
       "<td>74.0741</td></tr><tr><td>Bob</td>\n",
       "<td>73.3333</td></tr><tr><td>Carol</td>\n",
       "<td>65.3846</td> </tr> </tbody>\n",
       "            </table>\n",
       "            \n",
       "            <p>3 tuples</p></div>\n",
       "            "
      ],
      "text/plain": [
       "*name     pcent      \n",
       "+-------+ +---------+\n",
       "Alice     74.0741    \n",
       "Bob       73.3333    \n",
       "Carol     65.3846    \n",
       " (3 tuples)"
      ]
     },
     "execution_count": 23,
     "metadata": {},
     "output_type": "execute_result"
    }
   ],
   "source": [
    "(analyzed*acquired).proj(pcent = '100*m/n')"
   ]
  },
  {
   "cell_type": "code",
   "execution_count": 24,
   "metadata": {
    "collapsed": false
   },
   "outputs": [
    {
     "name": "stdout",
     "output_type": "stream",
     "text": [
      "Proceed to delete entire schema `dimitri_blobs`? [yes, No]: no\n"
     ]
    }
   ],
   "source": [
    "schema.drop()"
   ]
  },
  {
   "cell_type": "code",
   "execution_count": null,
   "metadata": {
    "collapsed": true
   },
   "outputs": [],
   "source": []
  }
 ],
 "metadata": {
  "kernelspec": {
   "display_name": "Python 3",
   "language": "python",
   "name": "python3"
  },
  "language_info": {
   "codemirror_mode": {
    "name": "ipython",
    "version": 3
   },
   "file_extension": ".py",
   "mimetype": "text/x-python",
   "name": "python",
   "nbconvert_exporter": "python",
   "pygments_lexer": "ipython3",
   "version": "3.5.0"
  }
 },
 "nbformat": 4,
 "nbformat_minor": 1
}
